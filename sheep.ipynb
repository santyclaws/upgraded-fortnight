{
 "cells": [
  {
   "cell_type": "markdown",
   "metadata": {},
   "source": [
    "# render\n"
   ]
  },
  {
   "cell_type": "markdown",
   "metadata": {
    "id": "JeNg1Yj8c-Xx"
   },
   "source": [
    "get dependencies"
   ]
  },
  {
   "cell_type": "code",
   "execution_count": null,
   "metadata": {
    "id": "q2aL4cibbWui"
   },
   "outputs": [],
   "source": [
    "#Info about the runtime\n",
    "!cat /etc/os-release\n",
    "!nvidia-smi\n",
    "!nvcc --version\n",
    "\n",
    "#This first Block is required as some weird behaviors with libtcmalloc appeared in the colab VM. \n",
    "import os\n",
    "os.environ[\"LD_PRELOAD\"] = \"\"\n",
    "!apt update -y\n",
    "!apt remove libtcmalloc-minimal4 -y\n",
    "!apt install libtcmalloc-minimal4 -y\n",
    "os.environ[\"LD_PRELOAD\"] = \"/usr/lib/x86_64-linux-gnu/libtcmalloc_minimal.so.4\" #no idea if libtcmalloc_minimal.so.4 or libtcmalloc_minimal.so.4.5.3 works better\n",
    "!echo $LD_PRELOAD\n",
    "\n",
    "#This is for Blender, GPU and sheepit.\n",
    "!apt update -y\n",
    "!apt install libboost-all-dev -y\n",
    "!apt install libgl1-mesa-dev -y\n",
    "!apt install libglu1-mesa -y\n",
    "!apt install libsm-dev -y\n",
    "!apt install libxkbcommon0 -y\n",
    "\n",
    "\n",
    "#for some reason there is no java on vast machines\n",
    "!apt install default-jdk -y"
   ]
  },
  {
   "cell_type": "markdown",
   "metadata": {
    "id": "oC3OE5XqyJPr"
   },
   "source": [
    "enter your username and password"
   ]
  },
  {
   "cell_type": "code",
   "execution_count": null,
   "metadata": {
    "id": "HvfliuWddB2H"
   },
   "outputs": [],
   "source": [
    "#@title Setup\n",
    "#@markdown Enter some dogshit \n",
    "username = \"ggman\" #@param {type: \"string\"}\n",
    "key = \"PFEBzt2GTChEaTe0AxCdvh3tbQ3SIquGrDp6q2v7\" #@param {type: \"string\"}\n",
    "computemethod = \"GPU\" #@param [\"GPU\", \"CPU\"] {allow-input: false}\n",
    "downloadUrl = \"https://www.sheepit-renderfarm.com/media/applet/client-latest.php\"\n",
    "#@markdown ---\n",
    "!wget $downloadUrl -O client.jar\n"
   ]
  },
  {
   "cell_type": "markdown",
   "metadata": {},
   "source": [
    "start the client"
   ]
  },
  {
   "cell_type": "code",
   "execution_count": null,
   "metadata": {
    "id": "KbE3Ex53eX0J"
   },
   "outputs": [],
   "source": [
    "if computemethod == \"CPU\":\n",
    "    !java -jar client.jar -ui oneLine/text -cache-dir /content/cache -compute-method $computemethod -login $username -password $key -ui text\n",
    "else:\n",
    "    !java -jar client.jar -ui oneLine/text -cache-dir /content/cache -compute-method GPU -gpu OPTIX_0 -login $username -password $key -ui text"
   ]
  }
 ],
 "metadata": {
  "accelerator": "GPU",
  "colab": {
   "name": "sheepit on web.ipynb",
   "provenance": []
  },
  "kernelspec": {
   "display_name": "Python 3 (ipykernel)",
   "language": "python",
   "name": "python3"
  },
  "language_info": {
   "codemirror_mode": {
    "name": "ipython",
    "version": 3
   },
   "file_extension": ".py",
   "mimetype": "text/x-python",
   "name": "python",
   "nbconvert_exporter": "python",
   "pygments_lexer": "ipython3",
   "version": "3.8.10"
  }
 },
 "nbformat": 4,
 "nbformat_minor": 4
}
